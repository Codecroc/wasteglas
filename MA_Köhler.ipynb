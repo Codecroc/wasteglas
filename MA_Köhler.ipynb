{
  "nbformat": 4,
  "nbformat_minor": 0,
  "metadata": {
    "colab": {
      "name": "MA-Köhler.ipynb",
      "provenance": [],
      "collapsed_sections": [],
      "include_colab_link": true
    },
    "kernelspec": {
      "name": "python3",
      "display_name": "Python 3"
    },
    "language_info": {
      "name": "python"
    }
  },
  "cells": [
    {
      "cell_type": "markdown",
      "metadata": {
        "id": "view-in-github",
        "colab_type": "text"
      },
      "source": [
        "<a href=\"https://colab.research.google.com/github/Codecroc/wasteglas/blob/master/MA_K%C3%B6hler.ipynb\" target=\"_parent\"><img src=\"https://colab.research.google.com/assets/colab-badge.svg\" alt=\"Open In Colab\"/></a>"
      ]
    },
    {
      "cell_type": "code",
      "execution_count": null,
      "metadata": {
        "id": "VWl-evaCNYmc"
      },
      "outputs": [],
      "source": [
        "import numpy as np \n",
        "import matplotlib.pyplot as plt \n",
        "from glob import glob\n",
        "import os\n",
        "import librosa as lr\n",
        "import librosa.display\n",
        "import librosa.util\n",
        "import soundfile as sf"
      ]
    },
    {
      "cell_type": "code",
      "source": [
        "def calc_dt(x, y, sr): \n",
        "  corr = np.correlate(x,y,\"full\")\n",
        "\n",
        "  plt.plot(corr[45000:55000])\n",
        "\n",
        "  print(np.argmax(corr) - int(len(corr)/2))\n",
        "  dt_max = (np.argmax(corr) - int(len(corr)/2)) / sr\n",
        "  s_max = dt_max * 343.2\n",
        "\n",
        "  return dt_max, s_max"
      ],
      "metadata": {
        "id": "km8-MXa52SuK"
      },
      "execution_count": null,
      "outputs": []
    },
    {
      "cell_type": "code",
      "source": [
        "!mkdir data\n",
        "!curl -o data.zip -LJO \"https://github.com/Codecroc/wasteglas/blob/master/Testwurf.zip?raw=true\"\n",
        "!unzip -q data.zip -d data\n",
        "!rm data.zip"
      ],
      "metadata": {
        "colab": {
          "base_uri": "https://localhost:8080/"
        },
        "id": "Brh1TMiBRSAI",
        "outputId": "d8076f11-159d-46e1-ae1b-1a583a898bb4"
      },
      "execution_count": null,
      "outputs": [
        {
          "output_type": "stream",
          "name": "stdout",
          "text": [
            "  % Total    % Received % Xferd  Average Speed   Time    Time     Time  Current\n",
            "                                 Dload  Upload   Total   Spent    Left  Speed\n",
            "100   127  100   127    0     0   1114      0 --:--:-- --:--:-- --:--:--  1123\n",
            "100   138  100   138    0     0    180      0 --:--:-- --:--:-- --:--:--  134k\n",
            "100 4040k  100 4040k    0     0  4544k      0 --:--:-- --:--:-- --:--:-- 4544k\n"
          ]
        }
      ]
    },
    {
      "cell_type": "code",
      "source": [
        "#path = \"/content/\"\n",
        "#list = os.listdir(path)\n",
        "#files = []\n",
        "#for file in list:\n",
        "#    if file.endswith(\".wav\"):\n",
        "#        files.append(file)\n",
        "\n",
        "samples_max = 50000\n",
        "directory = \"data\"\n",
        "samples_set = [ [\"rec48.wav\", 0, samples_max], [\"rec48.wav\", samples_max, 2*samples_max], [\"rec50.wav\", 0, samples_max],  [\"rec51.wav\", 0, samples_max], [\"rec54.wav\", 0, samples_max], [\"rec55.wav\", 0, samples_max], [\"rec58.wav\", 0, samples_max], [\"rec59.wav\", 0, samples_max] ]\n",
        "print(samples_set)\n",
        "samples_set = [[\"rec48.wav\", 0, samples_max]]\n",
        "\n",
        "for filename, start_index, end_index in samples_set:\n",
        "    print(f\"Processing {filename}: \")\n",
        "    \n",
        "    y, sr = lr.load(os.path.join(path, filename), sr=44100, mono=False)\n",
        "    #lr.util.normalize(y[0])\n",
        "    #lr.util.normalize(y[1])\n",
        "    print(y.shape)\n",
        "\n",
        "    dt_max, s_max = calc_dt(y[0][start_index:end_index], y[1][start_index:end_index], sr)\n",
        "    print(f\"dt_max: {dt_max * 1e3:0.3f} ms \\t smax: {s_max} m\")\n",
        "\n",
        "    #y, sr = lr.load(path +\"/\"+ filename, mono=True)\n",
        "\n",
        "    #time = np.arange(0,len(y))/sr\n",
        "    #fig, ax = plt.subplots()\n",
        "    #ax.set_title(filename)\n",
        "    #ax.plot(time,y)\n",
        "    #ax.set(xlabel='Time(s)',ylabel='sound amplitude')\n",
        "    #plt.show()\n",
        "    \n",
        "    #lr.feature.melspectrogram(y=y, sr=sr)\n",
        "\n",
        "    #D = np.abs(lr.stft(y))**2\n",
        "    #S = lr.feature.melspectrogram(S=D)\n",
        "    #S = lr.feature.melspectrogram(y=y, sr=sr, n_mels=128,fmax=8000)\n",
        "    #plt.figure(figsize=(10, 4))\n",
        "    #lr.display.specshow(lr.power_to_db(S,ref=np.max),y_axis='mel', fmax=8000,x_axis='time')\n",
        "    #plt.colorbar(format='%+2.0f dB')\n",
        "    #plt.title('Mel spectrogram')\n",
        "    #plt.tight_layout()\n",
        "    #plt.show()"
      ],
      "metadata": {
        "id": "UAHjNO5IOOFH",
        "colab": {
          "base_uri": "https://localhost:8080/",
          "height": 357
        },
        "outputId": "63eaf48b-12cf-481e-8573-788c22f9ed5b"
      },
      "execution_count": null,
      "outputs": [
        {
          "output_type": "stream",
          "name": "stdout",
          "text": [
            "[['rec48.wav', 0, 50000], ['rec48.wav', 50000, 100000], ['rec50.wav', 0, 50000], ['rec51.wav', 0, 50000], ['rec54.wav', 0, 50000], ['rec55.wav', 0, 50000], ['rec58.wav', 0, 50000], ['rec59.wav', 0, 50000]]\n",
            "Processing rec48.wav: \n",
            "(2, 132300)\n",
            "-1\n",
            "dt_max: -0.023 ms \t smax: -0.007782312925170068 m\n"
          ]
        },
        {
          "output_type": "display_data",
          "data": {
            "image/png": "[encoded data removed]",
            "text/plain": [
              "<Figure size 432x288 with 1 Axes>"
            ]
          },
          "metadata": {
            "needs_background": "light"
          }
        }
      ]
    },
    {
      "cell_type": "code",
      "source": [
        "print(y.shape)\n",
        "print(sr)"
      ],
      "metadata": {
        "id": "0oYfN6eoQnd2",
        "outputId": "00ab76ed-7e22-4244-ffe8-49fbea36ccbe",
        "colab": {
          "base_uri": "https://localhost:8080/"
        }
      },
      "execution_count": null,
      "outputs": [
        {
          "output_type": "stream",
          "name": "stdout",
          "text": [
            "(22050,)\n",
            "22050\n"
          ]
        }
      ]
    },
    {
      "cell_type": "code",
      "source": [
        "\n",
        "y_rec48,sr_rec48 = lr.load(path +\"/rec48.wav\", mono=False)\n",
        "print(y_rec48.shape)\n",
        "print(sr_rec48)\n",
        "\n",
        "#lr.util.normalize(y_rec48[0])\n",
        "#lr.util.normalize(y_rec48[1])\n",
        "\n",
        "index_len = len(y_rec48[1])\n",
        "n = int(index_len /2)\n",
        "cor = np.correlate(y_rec48[0,:n],y_rec48[1,:n], \"same\")\n",
        "cor1 = np.sqrt(np.correlate(y_rec48[1,:n],y_rec48[1,:n], \"same\")[int(n/2)] * np.correlate(y_rec48[0,:n],y_rec48[0,:n], \"same\")[int(n/2)])\n",
        "corr = cor / cor1\n",
        "\n",
        "dt_max = (np.argmax(corr) - n) / sr_rec48\n",
        "s_max = dt_max * 330\n",
        "\n",
        "print(f\"tmax = {dt_max * 1000} ms smax = {s_max} m\")\n",
        "\n",
        "dt_max, s_max = calc_dt(y_rec48[0][n:], y_rec48[1][n:], sr_rec48)\n",
        "\n",
        "print(f\"Function calc_dt: tmax = {dt_max * 1000} ms smax = {s_max} m\")\n",
        "\n",
        "\n",
        "#print(cor.shape)\n",
        "#print(cor)\n",
        "#print(cor[66149])\n",
        "#plt.plot(cor)"
      ],
      "metadata": {
        "id": "BSXSA0PnRora",
        "colab": {
          "base_uri": "https://localhost:8080/"
        },
        "outputId": "e057ab83-0c33-420a-9d4f-ef5dd07b2406"
      },
      "execution_count": null,
      "outputs": [
        {
          "output_type": "stream",
          "name": "stdout",
          "text": [
            "(2, 66150)\n",
            "22050\n",
            "tmax = -750.0680272108843 ms smax = -247.52244897959184 m\n",
            "Function calc_dt: tmax = -0.09070294784580499 ms smax = -0.029931972789115645 m\n"
          ]
        }
      ]
    },
    {
      "cell_type": "code",
      "source": [
        "dt_max, s_max = calc_dt(y_rec48[0][n:], y_rec48[1][n:], sr_rec48)\n",
        "\n",
        "print(f\"Function calc_dt: tmax = {dt_max * 1000} ms smax = {s_max} m\")"
      ],
      "metadata": {
        "id": "fxFmWvCN6crQ"
      },
      "execution_count": null,
      "outputs": []
    },
    {
      "cell_type": "code",
      "source": [
        "y_rec51,sr_rec51 = lr.load(path +\"/rec51.wav\", mono=False)\n",
        "print(y_rec51.shape)\n",
        "print(sr_rec51)\n",
        "\n",
        "cor = np.correlate(y_rec51[0,:],y_rec51[1,:])\n",
        "print(cor.shape)\n",
        "print(cor)\n",
        "\n",
        "#plt.plot(cor)"
      ],
      "metadata": {
        "colab": {
          "base_uri": "https://localhost:8080/"
        },
        "id": "TkR0p6tGS5U8",
        "outputId": "e82db397-8ed1-4873-d309-82eb92b05eb4"
      },
      "execution_count": null,
      "outputs": [
        {
          "output_type": "stream",
          "name": "stdout",
          "text": [
            "(2, 66150)\n",
            "22050\n",
            "(1,)\n",
            "[1274.403]\n"
          ]
        }
      ]
    },
    {
      "cell_type": "code",
      "source": [
        "y_rec54,sr_rec54 = lr.load(path +\"/rec54.wav\", mono=False)\n",
        "print(y_rec54.shape)\n",
        "print(sr_rec54)\n",
        "\n",
        "cor = np.correlate(y_rec54[0,:],y_rec54[1,:], 'full')\n",
        "print(cor.shape)\n",
        "print(cor)\n",
        "\n",
        "xmax = np.argmax(cor)\n",
        "x = len(y_rec54[0])\n",
        "\n",
        "xmax = xmax - x\n",
        "tmax = xmax / sr\n",
        "\n",
        "smax = 330 * tmax\n",
        "\n",
        "\n",
        "print(f\"tmax = {tmax * 1000} ms smax = {smax} m\")\n",
        "xmax = np.argmax(cor)\n",
        "\n",
        "#plt.plot(cor[xmax - 100: xmax + 100])\n",
        "plt.plot(cor)"
      ],
      "metadata": {
        "colab": {
          "base_uri": "https://localhost:8080/",
          "height": 394
        },
        "id": "nOUe-iFbWMS5",
        "outputId": "bc096e51-5204-4d6a-d34f-5f412d2fe1db"
      },
      "execution_count": null,
      "outputs": [
        {
          "output_type": "stream",
          "name": "stdout",
          "text": [
            "(2, 66150)\n",
            "22050\n",
            "(132299,)\n",
            "[-0.00304092  0.00053226 -0.00453594 ... -0.00115059  0.00120308\n",
            " -0.00164447]\n",
            "tmax = -0.40816326530612246 ms smax = -0.1346938775510204 m\n"
          ]
        },
        {
          "output_type": "execute_result",
          "data": {
            "text/plain": [
              "[<matplotlib.lines.Line2D at 0x7f114835c050>]"
            ]
          },
          "metadata": {},
          "execution_count": 80
        },
        {
          "output_type": "display_data",
          "data": {
            "image/png": "[encoded data removed]",
            "text/plain": [
              "<Figure size 432x288 with 1 Axes>"
            ]
          },
          "metadata": {
            "needs_background": "light"
          }
        }
      ]
    },
    {
      "cell_type": "code",
      "source": [
        "y_rec55,sr_rec55 = lr.load(path +\"/rec55.wav\", mono=False)\n",
        "print(y_rec55.shape)\n",
        "print(sr_rec55)\n",
        "\n",
        "cor = np.correlate(y_rec55[0,:],y_rec55[1,:])\n",
        "print(cor.shape)\n",
        "print(cor)\n",
        "\n",
        "#plt.plot(cor)\n",
        "from scipy import signal\n",
        "#n = len(y_rec55[1])\n",
        "#cor = np.correlate(y_rec55[0,:],y_rec55[1,:], \"same\")\n",
        "#cor1 = np.sqrt(np.correlate(y_rec55[1,:],y_rec55[1,:], \"same\")[int(n/2)] * np.correlate(y_rec55[0,:],y_rec55[0,:], \"same\")[int(n/2)])\n",
        "#corr = cor / cor1\n",
        "#delay_arr = np.linspace(-0.5*n/sr, 0.5*n/sr, n)\n",
        "#delay = delay_arr[np.argmax(corr)]\n",
        "#print(delay)\n",
        "#plt.plot(delay_arr,corr)\n",
        "\n",
        "lags = signal.correlation_lags((y_rec55[0,:]).size, (y_rec55[1,:]).size, mode=\"full\")\n",
        "print(lags)\n",
        "\n"
      ],
      "metadata": {
        "colab": {
          "base_uri": "https://localhost:8080/",
          "height": 319
        },
        "id": "rEfFdIaUhpAp",
        "outputId": "a9dee2ca-365d-45b2-81a0-08aaf271151f"
      },
      "execution_count": null,
      "outputs": [
        {
          "output_type": "stream",
          "name": "stdout",
          "text": [
            "(2, 66150)\n",
            "22050\n",
            "(1,)\n",
            "[1517.8647]\n"
          ]
        },
        {
          "output_type": "error",
          "ename": "AttributeError",
          "evalue": "ignored",
          "traceback": [
            "\u001b[0;31m---------------------------------------------------------------------------\u001b[0m",
            "\u001b[0;31mAttributeError\u001b[0m                            Traceback (most recent call last)",
            "\u001b[0;32m<ipython-input-69-f891d61a9995>\u001b[0m in \u001b[0;36m<module>\u001b[0;34m()\u001b[0m\n\u001b[1;32m     18\u001b[0m \u001b[0;31m#plt.plot(delay_arr,corr)\u001b[0m\u001b[0;34m\u001b[0m\u001b[0;34m\u001b[0m\u001b[0;34m\u001b[0m\u001b[0m\n\u001b[1;32m     19\u001b[0m \u001b[0;34m\u001b[0m\u001b[0m\n\u001b[0;32m---> 20\u001b[0;31m \u001b[0mlags\u001b[0m \u001b[0;34m=\u001b[0m \u001b[0msignal\u001b[0m\u001b[0;34m.\u001b[0m\u001b[0mcorrelation_lags\u001b[0m\u001b[0;34m(\u001b[0m\u001b[0;34m(\u001b[0m\u001b[0my_rec55\u001b[0m\u001b[0;34m[\u001b[0m\u001b[0;36m0\u001b[0m\u001b[0;34m,\u001b[0m\u001b[0;34m:\u001b[0m\u001b[0;34m]\u001b[0m\u001b[0;34m)\u001b[0m\u001b[0;34m.\u001b[0m\u001b[0msize\u001b[0m\u001b[0;34m,\u001b[0m \u001b[0;34m(\u001b[0m\u001b[0my_rec55\u001b[0m\u001b[0;34m[\u001b[0m\u001b[0;36m1\u001b[0m\u001b[0;34m,\u001b[0m\u001b[0;34m:\u001b[0m\u001b[0;34m]\u001b[0m\u001b[0;34m)\u001b[0m\u001b[0;34m.\u001b[0m\u001b[0msize\u001b[0m\u001b[0;34m,\u001b[0m \u001b[0mmode\u001b[0m\u001b[0;34m=\u001b[0m\u001b[0;34m\"full\"\u001b[0m\u001b[0;34m)\u001b[0m\u001b[0;34m\u001b[0m\u001b[0;34m\u001b[0m\u001b[0m\n\u001b[0m\u001b[1;32m     21\u001b[0m \u001b[0mprint\u001b[0m\u001b[0;34m(\u001b[0m\u001b[0mlags\u001b[0m\u001b[0;34m)\u001b[0m\u001b[0;34m\u001b[0m\u001b[0;34m\u001b[0m\u001b[0m\n\u001b[1;32m     22\u001b[0m \u001b[0;34m\u001b[0m\u001b[0m\n",
            "\u001b[0;31mAttributeError\u001b[0m: module 'scipy.signal' has no attribute 'correlation_lags'"
          ]
        }
      ]
    },
    {
      "cell_type": "code",
      "source": [
        "y_rec155,sr_rec155 = lr.load(path +\"/rec155.wav\", mono=False)\n",
        "print(y_rec155.shape)\n",
        "print(sr_rec155)\n",
        "\n",
        "cor = np.correlate(y_rec155[0,:],y_rec155[1,:], 'full')\n",
        "print(cor.shape)\n",
        "print(cor)\n",
        "\n",
        "plt.plot(cor)"
      ],
      "metadata": {
        "colab": {
          "base_uri": "https://localhost:8080/",
          "height": 375
        },
        "id": "F3YesvTCWm1m",
        "outputId": "2303a46d-7128-42e4-d745-b12c495a6ec1"
      },
      "execution_count": null,
      "outputs": [
        {
          "output_type": "stream",
          "name": "stdout",
          "text": [
            "(2, 22050)\n",
            "22050\n",
            "(44099,)\n",
            "[-0.00031504 -0.01385303 -0.03091832 ... -0.03398355 -0.01537557\n",
            " -0.00034984]\n"
          ]
        },
        {
          "output_type": "execute_result",
          "data": {
            "text/plain": [
              "[<matplotlib.lines.Line2D at 0x7f11494a4450>]"
            ]
          },
          "metadata": {},
          "execution_count": 31
        },
        {
          "output_type": "display_data",
          "data": {
            "image/png": "[encoded data removed]",
            "text/plain": [
              "<Figure size 432x288 with 1 Axes>"
            ]
          },
          "metadata": {
            "needs_background": "light"
          }
        }
      ]
    }
  ]
}